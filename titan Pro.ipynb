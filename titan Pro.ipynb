{
 "cells": [
  {
   "cell_type": "code",
   "execution_count": null,
   "id": "09c5be18",
   "metadata": {},
   "outputs": [],
   "source": [
    "import numpy as np \n",
    "import pandas as pd\n",
    "import matplotlib.pyplot as plt\n",
    "import seaborn as sns\n"
   ]
  },
  {
   "cell_type": "code",
   "execution_count": null,
   "id": "628f0c48",
   "metadata": {},
   "outputs": [],
   "source": [
    "df=pd.read_csv(\"titan.csv\")"
   ]
  },
  {
   "cell_type": "code",
   "execution_count": null,
   "id": "01788883",
   "metadata": {},
   "outputs": [],
   "source": [
    "df.head()"
   ]
  },
  {
   "cell_type": "code",
   "execution_count": null,
   "id": "e858cdec",
   "metadata": {},
   "outputs": [],
   "source": [
    "df.info()"
   ]
  },
  {
   "cell_type": "code",
   "execution_count": null,
   "id": "a2924dc2",
   "metadata": {},
   "outputs": [],
   "source": [
    "df.drop([\"Name \"],axis=1,inplace=True)"
   ]
  },
  {
   "cell_type": "code",
   "execution_count": null,
   "id": "e3595433",
   "metadata": {},
   "outputs": [],
   "source": [
    "df.drop([\"Ticket \"],axis=1,inplace=True)\n",
    "df.drop([\"Cabin \"],axis=1,inplace=True)"
   ]
  },
  {
   "cell_type": "code",
   "execution_count": null,
   "id": "c7175936",
   "metadata": {},
   "outputs": [],
   "source": [
    "df.head()"
   ]
  },
  {
   "cell_type": "code",
   "execution_count": null,
   "id": "30b70906",
   "metadata": {},
   "outputs": [],
   "source": [
    "df.drop([\"SibSp \"],axis=1,inplace=True)"
   ]
  },
  {
   "cell_type": "code",
   "execution_count": null,
   "id": "8383953d",
   "metadata": {},
   "outputs": [],
   "source": [
    "df.head()"
   ]
  },
  {
   "cell_type": "code",
   "execution_count": null,
   "id": "681db5e9",
   "metadata": {},
   "outputs": [],
   "source": [
    "df.columns"
   ]
  },
  {
   "cell_type": "code",
   "execution_count": null,
   "id": "8b1454f7",
   "metadata": {},
   "outputs": [],
   "source": [
    "cl=df.columns\n",
    "cl=['PassengerId ', 'Pclass ', 'Sex ', 'Age ', 'Parch ','Fare ', 'Embarked ', 'Survived ']\n",
    "df=df[cl]\n",
    "df"
   ]
  },
  {
   "cell_type": "code",
   "execution_count": null,
   "id": "6f5b82c6",
   "metadata": {},
   "outputs": [],
   "source": [
    "sns.pairplot(df)"
   ]
  },
  {
   "cell_type": "code",
   "execution_count": null,
   "id": "75e10f1a",
   "metadata": {},
   "outputs": [],
   "source": [
    "sns.boxplot(df[\"Fare \"])"
   ]
  },
  {
   "cell_type": "code",
   "execution_count": null,
   "id": "f80cf5aa",
   "metadata": {},
   "outputs": [],
   "source": [
    "df.info()"
   ]
  },
  {
   "cell_type": "code",
   "execution_count": null,
   "id": "15ba1ef9",
   "metadata": {},
   "outputs": [],
   "source": [
    "plt.hist(df[\"Fare \"])"
   ]
  },
  {
   "cell_type": "code",
   "execution_count": null,
   "id": "35f247d7",
   "metadata": {},
   "outputs": [],
   "source": [
    "df[\"Age \"]=df[\"Age \"].fillna(df[\"Age \"].median())"
   ]
  },
  {
   "cell_type": "code",
   "execution_count": null,
   "id": "2ccfa76f",
   "metadata": {},
   "outputs": [],
   "source": [
    "df.dropna(subset=[\"PassengerId \"],inplace=True)"
   ]
  },
  {
   "cell_type": "code",
   "execution_count": null,
   "id": "f44e9bec",
   "metadata": {},
   "outputs": [],
   "source": [
    "lim=df[\"Fare \"].quantile(0.75)-df[\"Fare \"].quantile(0.25)\n",
    "ul=df[\"Fare \"].quantile(0.75) +3*lim\n",
    "ll=df[\"Fare \"].quantile(0.25) -3*lim"
   ]
  },
  {
   "cell_type": "code",
   "execution_count": null,
   "id": "95a34fb1",
   "metadata": {},
   "outputs": [],
   "source": [
    "ul"
   ]
  },
  {
   "cell_type": "code",
   "execution_count": null,
   "id": "d95c50b1",
   "metadata": {},
   "outputs": [],
   "source": [
    "ll"
   ]
  },
  {
   "cell_type": "code",
   "execution_count": null,
   "id": "70fb8d20",
   "metadata": {},
   "outputs": [],
   "source": [
    "out=df[(df[\"Fare \"]>ul)|(df[\"Fare \"]<ll)]\n",
    "out"
   ]
  },
  {
   "cell_type": "code",
   "execution_count": null,
   "id": "679c3730",
   "metadata": {},
   "outputs": [],
   "source": [
    "for i in out.index:\n",
    "    df[\"Fare \"][i]=df[\"Fare \"].mean()"
   ]
  },
  {
   "cell_type": "code",
   "execution_count": null,
   "id": "1bf812a2",
   "metadata": {},
   "outputs": [],
   "source": [
    "df.head()"
   ]
  },
  {
   "cell_type": "code",
   "execution_count": null,
   "id": "5fb53d95",
   "metadata": {},
   "outputs": [],
   "source": [
    "sns.barplot(df[\"Sex \"],df[\"Survived \"])"
   ]
  },
  {
   "cell_type": "code",
   "execution_count": null,
   "id": "2e18ed14",
   "metadata": {},
   "outputs": [],
   "source": [
    "df=pd.get_dummies(df,drop_first=True)\n",
    "df"
   ]
  },
  {
   "cell_type": "code",
   "execution_count": null,
   "id": "13522317",
   "metadata": {},
   "outputs": [],
   "source": [
    "cl=df.columns\n",
    "cl"
   ]
  },
  {
   "cell_type": "code",
   "execution_count": null,
   "id": "6a335913",
   "metadata": {},
   "outputs": [],
   "source": [
    "cl=df.columns\n",
    "cl=['PassengerId ', 'Pclass ', 'Age ', 'Parch ', 'Fare ','Sex _male ', 'Embarked _Q ', 'Embarked _S ', 'Survived ']\n",
    "df=df[cl]\n",
    "df"
   ]
  },
  {
   "cell_type": "code",
   "execution_count": null,
   "id": "52a4cb1d",
   "metadata": {},
   "outputs": [],
   "source": [
    "df.info()"
   ]
  },
  {
   "cell_type": "code",
   "execution_count": null,
   "id": "9cf9bb86",
   "metadata": {},
   "outputs": [],
   "source": [
    "x=df.iloc[:,0:8].values\n",
    "x"
   ]
  },
  {
   "cell_type": "code",
   "execution_count": null,
   "id": "cae1dada",
   "metadata": {},
   "outputs": [],
   "source": [
    "y=df.iloc[:,-1].values\n",
    "y"
   ]
  },
  {
   "cell_type": "code",
   "execution_count": null,
   "id": "a5bfbc22",
   "metadata": {},
   "outputs": [],
   "source": [
    "from sklearn.model_selection import train_test_split\n",
    "x_train,x_test,y_train,y_test=train_test_split(x,y,test_size=0.20,random_state=0)"
   ]
  },
  {
   "cell_type": "code",
   "execution_count": null,
   "id": "e7003c08",
   "metadata": {},
   "outputs": [],
   "source": [
    "x_train.shape"
   ]
  },
  {
   "cell_type": "code",
   "execution_count": null,
   "id": "5c256fea",
   "metadata": {},
   "outputs": [],
   "source": [
    "from sklearn.linear_model import LogisticRegression"
   ]
  },
  {
   "cell_type": "code",
   "execution_count": null,
   "id": "d6358964",
   "metadata": {},
   "outputs": [],
   "source": [
    "lr=LogisticRegression()"
   ]
  },
  {
   "cell_type": "code",
   "execution_count": null,
   "id": "f57bfe9d",
   "metadata": {},
   "outputs": [],
   "source": [
    "lr.fit(x_train,y_train)"
   ]
  },
  {
   "cell_type": "code",
   "execution_count": null,
   "id": "00c47200",
   "metadata": {},
   "outputs": [],
   "source": [
    "prd=lr.predict(x_test)"
   ]
  },
  {
   "cell_type": "code",
   "execution_count": null,
   "id": "b057057c",
   "metadata": {},
   "outputs": [],
   "source": [
    "prd"
   ]
  },
  {
   "cell_type": "code",
   "execution_count": null,
   "id": "573b8efc",
   "metadata": {},
   "outputs": [],
   "source": [
    "y_test"
   ]
  },
  {
   "cell_type": "code",
   "execution_count": null,
   "id": "b0b0a327",
   "metadata": {},
   "outputs": [],
   "source": [
    "from sklearn import metrics"
   ]
  },
  {
   "cell_type": "code",
   "execution_count": null,
   "id": "5551e661",
   "metadata": {},
   "outputs": [],
   "source": [
    "metrics.confusion_matrix(y_test,prd)"
   ]
  },
  {
   "cell_type": "code",
   "execution_count": null,
   "id": "1975085f",
   "metadata": {},
   "outputs": [],
   "source": [
    "metrics.accuracy_score(y_test,prd)"
   ]
  },
  {
   "cell_type": "code",
   "execution_count": null,
   "id": "8bc187ae",
   "metadata": {},
   "outputs": [],
   "source": [
    "from sklearn.preprocessing import StandardScaler\n",
    "x=StandardScaler()"
   ]
  },
  {
   "cell_type": "code",
   "execution_count": null,
   "id": "09bf6b95",
   "metadata": {},
   "outputs": [],
   "source": [
    "x_train=x.fit_transform(x_train)\n",
    "x_train "
   ]
  },
  {
   "cell_type": "code",
   "execution_count": null,
   "id": "45fc586d",
   "metadata": {},
   "outputs": [],
   "source": [
    "from sklearn.neighbors import KNeighborsClassifier"
   ]
  },
  {
   "cell_type": "code",
   "execution_count": null,
   "id": "66cbd580",
   "metadata": {},
   "outputs": [],
   "source": [
    "knn=KNeighborsClassifier(n_neighbors=50)"
   ]
  },
  {
   "cell_type": "code",
   "execution_count": null,
   "id": "30c34537",
   "metadata": {},
   "outputs": [],
   "source": [
    "knn.fit(x_train,y_train)"
   ]
  },
  {
   "cell_type": "code",
   "execution_count": null,
   "id": "003c95fd",
   "metadata": {},
   "outputs": [],
   "source": [
    "pr=knn.predict(x_test)\n",
    "pr"
   ]
  },
  {
   "cell_type": "code",
   "execution_count": null,
   "id": "1436d7e4",
   "metadata": {},
   "outputs": [],
   "source": [
    "metrics.accuracy_score(y_test,pr)"
   ]
  },
  {
   "cell_type": "code",
   "execution_count": null,
   "id": "786c92a1",
   "metadata": {},
   "outputs": [],
   "source": []
  }
 ],
 "metadata": {
  "kernelspec": {
   "display_name": "Python 3 (ipykernel)",
   "language": "python",
   "name": "python3"
  },
  "language_info": {
   "codemirror_mode": {
    "name": "ipython",
    "version": 3
   },
   "file_extension": ".py",
   "mimetype": "text/x-python",
   "name": "python",
   "nbconvert_exporter": "python",
   "pygments_lexer": "ipython3",
   "version": "3.9.7"
  }
 },
 "nbformat": 4,
 "nbformat_minor": 5
}
