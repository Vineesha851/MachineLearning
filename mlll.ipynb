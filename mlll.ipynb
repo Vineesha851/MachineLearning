{
 "cells": [
  {
   "cell_type": "code",
   "execution_count": 1,
   "id": "561ac16e-8cc4-4e0b-b578-732f10f443d1",
   "metadata": {},
   "outputs": [
    {
     "ename": "ModuleNotFoundError",
     "evalue": "No module named 'matplotlib'",
     "output_type": "error",
     "traceback": [
      "\u001b[1;31m---------------------------------------------------------------------------\u001b[0m",
      "\u001b[1;31mModuleNotFoundError\u001b[0m                       Traceback (most recent call last)",
      "Cell \u001b[1;32mIn[1], line 3\u001b[0m\n\u001b[0;32m      1\u001b[0m \u001b[38;5;28;01mimport\u001b[39;00m\u001b[38;5;250m \u001b[39m\u001b[38;5;21;01mnumpy\u001b[39;00m\u001b[38;5;250m \u001b[39m\u001b[38;5;28;01mas\u001b[39;00m\u001b[38;5;250m \u001b[39m\u001b[38;5;21;01mnp\u001b[39;00m\n\u001b[0;32m      2\u001b[0m \u001b[38;5;28;01mimport\u001b[39;00m\u001b[38;5;250m \u001b[39m\u001b[38;5;21;01mpandas\u001b[39;00m\u001b[38;5;250m \u001b[39m\u001b[38;5;28;01mas\u001b[39;00m\u001b[38;5;250m \u001b[39m\u001b[38;5;21;01mpd\u001b[39;00m\n\u001b[1;32m----> 3\u001b[0m \u001b[38;5;28;01mimport\u001b[39;00m\u001b[38;5;250m \u001b[39m\u001b[38;5;21;01mmatplotlib\u001b[39;00m\u001b[38;5;21;01m.\u001b[39;00m\u001b[38;5;21;01mpyplot\u001b[39;00m\u001b[38;5;250m \u001b[39m\u001b[38;5;28;01mas\u001b[39;00m\u001b[38;5;250m \u001b[39m\u001b[38;5;21;01mplt\u001b[39;00m\n\u001b[0;32m      4\u001b[0m \u001b[38;5;28;01mimport\u001b[39;00m\u001b[38;5;250m \u001b[39m\u001b[38;5;21;01mseaborn\u001b[39;00m\u001b[38;5;250m \u001b[39m\u001b[38;5;28;01mas\u001b[39;00m\u001b[38;5;250m \u001b[39m\u001b[38;5;21;01msns\u001b[39;00m\n",
      "\u001b[1;31mModuleNotFoundError\u001b[0m: No module named 'matplotlib'"
     ]
    }
   ],
   "source": [
    "import numpy as np\n",
    "import pandas as pd\n",
    "import matplotlib.pyplot as plt\n",
    "import seaborn as sns"
   ]
  },
  {
   "cell_type": "code",
   "execution_count": null,
   "id": "d1b2a371-cd4f-447d-88f5-2a78b4581bcd",
   "metadata": {},
   "outputs": [],
   "source": [
    "df=pd.read_csv(\"Iris.csv\")"
   ]
  },
  {
   "cell_type": "code",
   "execution_count": null,
   "id": "0f62ea41-7908-4247-8ffa-a5a6dfb528b6",
   "metadata": {},
   "outputs": [],
   "source": [
    "df.shape"
   ]
  },
  {
   "cell_type": "code",
   "execution_count": null,
   "id": "8f42e656-265c-45bc-aef5-9a01936a9b76",
   "metadata": {},
   "outputs": [],
   "source": [
    "df.head()"
   ]
  },
  {
   "cell_type": "code",
   "execution_count": null,
   "id": "80477415-ea76-42db-bb11-89f2bd277efc",
   "metadata": {},
   "outputs": [],
   "source": [
    "df.info()"
   ]
  },
  {
   "cell_type": "code",
   "execution_count": null,
   "id": "da9acb7c-cd5b-4611-8b58-556b7c2b1151",
   "metadata": {},
   "outputs": [],
   "source": [
    "df.drop([\"Species\"],axis=1,inplace=True)"
   ]
  },
  {
   "cell_type": "code",
   "execution_count": 2,
   "id": "3b5fa3f8-f8b4-45c5-83dd-5852a1fe5172",
   "metadata": {},
   "outputs": [
    {
     "ename": "NameError",
     "evalue": "name 'df' is not defined",
     "output_type": "error",
     "traceback": [
      "\u001b[1;31m---------------------------------------------------------------------------\u001b[0m",
      "\u001b[1;31mNameError\u001b[0m                                 Traceback (most recent call last)",
      "Cell \u001b[1;32mIn[2], line 1\u001b[0m\n\u001b[1;32m----> 1\u001b[0m \u001b[43mdf\u001b[49m\u001b[38;5;241m.\u001b[39mhead()\n",
      "\u001b[1;31mNameError\u001b[0m: name 'df' is not defined"
     ]
    }
   ],
   "source": [
    "df.head()"
   ]
  },
  {
   "cell_type": "code",
   "execution_count": 3,
   "id": "d9ce7954-6b42-4950-88b9-f7360f879212",
   "metadata": {},
   "outputs": [
    {
     "ename": "ModuleNotFoundError",
     "evalue": "No module named 'sklearn'",
     "output_type": "error",
     "traceback": [
      "\u001b[1;31m---------------------------------------------------------------------------\u001b[0m",
      "\u001b[1;31mModuleNotFoundError\u001b[0m                       Traceback (most recent call last)",
      "Cell \u001b[1;32mIn[3], line 1\u001b[0m\n\u001b[1;32m----> 1\u001b[0m \u001b[38;5;28;01mfrom\u001b[39;00m\u001b[38;5;250m \u001b[39m\u001b[38;5;21;01msklearn\u001b[39;00m\u001b[38;5;21;01m.\u001b[39;00m\u001b[38;5;21;01mpreprocessing\u001b[39;00m\u001b[38;5;250m \u001b[39m\u001b[38;5;28;01mimport\u001b[39;00m StandardScaler\n",
      "\u001b[1;31mModuleNotFoundError\u001b[0m: No module named 'sklearn'"
     ]
    }
   ],
   "source": [
    "from sklearn.preprocessing import StandardScaler\n"
   ]
  },
  {
   "cell_type": "code",
   "execution_count": 4,
   "id": "148b56d8-5d6f-4361-9029-a3375a12a3d7",
   "metadata": {},
   "outputs": [
    {
     "ename": "NameError",
     "evalue": "name 'StandardScaler' is not defined",
     "output_type": "error",
     "traceback": [
      "\u001b[1;31m---------------------------------------------------------------------------\u001b[0m",
      "\u001b[1;31mNameError\u001b[0m                                 Traceback (most recent call last)",
      "Cell \u001b[1;32mIn[4], line 1\u001b[0m\n\u001b[1;32m----> 1\u001b[0m ss\u001b[38;5;241m=\u001b[39m\u001b[43mStandardScaler\u001b[49m()\n",
      "\u001b[1;31mNameError\u001b[0m: name 'StandardScaler' is not defined"
     ]
    }
   ],
   "source": [
    "\n",
    "\n",
    "ss=StandardScaler()"
   ]
  },
  {
   "cell_type": "code",
   "execution_count": 5,
   "id": "8ac11bbb-2206-48a2-9af7-f2414dbad034",
   "metadata": {},
   "outputs": [
    {
     "ename": "NameError",
     "evalue": "name 'ss' is not defined",
     "output_type": "error",
     "traceback": [
      "\u001b[1;31m---------------------------------------------------------------------------\u001b[0m",
      "\u001b[1;31mNameError\u001b[0m                                 Traceback (most recent call last)",
      "Cell \u001b[1;32mIn[5], line 1\u001b[0m\n\u001b[1;32m----> 1\u001b[0m x\u001b[38;5;241m=\u001b[39m\u001b[43mss\u001b[49m\u001b[38;5;241m.\u001b[39mfit_transform(df)\n",
      "\u001b[1;31mNameError\u001b[0m: name 'ss' is not defined"
     ]
    }
   ],
   "source": [
    "x=ss.fit_transform(df)"
   ]
  },
  {
   "cell_type": "code",
   "execution_count": 6,
   "id": "1e90d392-c22e-4b24-a3fc-31563b2ac469",
   "metadata": {},
   "outputs": [
    {
     "ename": "NameError",
     "evalue": "name 'x' is not defined",
     "output_type": "error",
     "traceback": [
      "\u001b[1;31m---------------------------------------------------------------------------\u001b[0m",
      "\u001b[1;31mNameError\u001b[0m                                 Traceback (most recent call last)",
      "Cell \u001b[1;32mIn[6], line 1\u001b[0m\n\u001b[1;32m----> 1\u001b[0m \u001b[43mx\u001b[49m\n",
      "\u001b[1;31mNameError\u001b[0m: name 'x' is not defined"
     ]
    }
   ],
   "source": [
    "x"
   ]
  },
  {
   "cell_type": "code",
   "execution_count": 18,
   "id": "378946e4-9587-4bef-b125-92c6b369c76d",
   "metadata": {},
   "outputs": [],
   "source": [
    "from sklearn.cluster import DBSCAN"
   ]
  },
  {
   "cell_type": "code",
   "execution_count": 19,
   "id": "921bb20b-57cb-49e0-8b15-34ec710d62ce",
   "metadata": {},
   "outputs": [],
   "source": [
    "db=DBSCAN(eps=0.5,min_samples=8)"
   ]
  },
  {
   "cell_type": "code",
   "execution_count": 20,
   "id": "9b2fbd15-ba7a-4c27-8a04-deba90ac409c",
   "metadata": {},
   "outputs": [],
   "source": [
    "z=db.fit_predict(x)"
   ]
  },
  {
   "cell_type": "code",
   "execution_count": 21,
   "id": "b18188ba-d0f2-49d2-b3d1-a2d047f00596",
   "metadata": {},
   "outputs": [
    {
     "data": {
      "text/plain": [
       "array([ 0, -1, -1, -1,  0, -1, -1,  0, -1, -1, -1,  0, -1, -1, -1, -1, -1,\n",
       "        0, -1, -1,  0,  0, -1,  0,  0, -1,  0,  0,  0, -1, -1,  0, -1, -1,\n",
       "       -1, -1,  0, -1, -1,  0,  0, -1, -1, -1, -1, -1, -1, -1, -1, -1, -1,\n",
       "       -1, -1, -1, -1, -1, -1, -1, -1, -1, -1, -1, -1, -1, -1, -1, -1, -1,\n",
       "       -1, -1, -1, -1, -1, -1, -1, -1, -1, -1, -1, -1, -1, -1, -1, -1, -1,\n",
       "       -1, -1, -1, -1, -1, -1, -1, -1, -1, -1, -1, -1, -1, -1, -1, -1, -1,\n",
       "       -1, -1, -1, -1, -1, -1, -1, -1, -1, -1, -1, -1, -1, -1, -1, -1, -1,\n",
       "       -1, -1, -1, -1, -1, -1, -1, -1, -1, -1, -1, -1, -1, -1, -1, -1, -1,\n",
       "       -1, -1, -1, -1, -1, -1, -1, -1, -1, -1, -1, -1, -1, -1])"
      ]
     },
     "execution_count": 21,
     "metadata": {},
     "output_type": "execute_result"
    }
   ],
   "source": [
    "z"
   ]
  },
  {
   "cell_type": "code",
   "execution_count": 22,
   "id": "37b06009-c886-4915-8c1b-3fa3c0a8a74d",
   "metadata": {},
   "outputs": [],
   "source": [
    "from sklearn.decomposition import PCA"
   ]
  },
  {
   "cell_type": "code",
   "execution_count": 23,
   "id": "7d48cdef-0667-40b0-9caa-e66a60858e0b",
   "metadata": {},
   "outputs": [],
   "source": [
    "pca=PCA(n_components=2)"
   ]
  },
  {
   "cell_type": "code",
   "execution_count": 24,
   "id": "e34392a4-8e46-44f6-a92c-472c578a4029",
   "metadata": {},
   "outputs": [],
   "source": [
    "pca=pca.fit_transform(x)"
   ]
  },
  {
   "cell_type": "code",
   "execution_count": 25,
   "id": "bd315232-78c1-4c56-83a4-fa4d5ef4fdb6",
   "metadata": {},
   "outputs": [
    {
     "data": {
      "text/plain": [
       "array([[-2.81633893e+00,  5.06050643e-01],\n",
       "       [-2.64552745e+00, -6.51799379e-01],\n",
       "       [-2.87948066e+00, -3.21035860e-01],\n",
       "       [-2.81093445e+00, -5.77363207e-01],\n",
       "       [-2.87988351e+00,  6.70467643e-01],\n",
       "       [-2.59317599e+00,  1.51881921e+00],\n",
       "       [-2.90159154e+00,  6.77106952e-02],\n",
       "       [-2.71013857e+00,  2.44822135e-01],\n",
       "       [-2.78572445e+00, -1.10033691e+00],\n",
       "       [-2.64728182e+00, -4.51017611e-01],\n",
       "       [-2.62045947e+00,  1.06753291e+00],\n",
       "       [-2.74530029e+00,  1.51688686e-01],\n",
       "       [-2.64364170e+00, -7.13641450e-01],\n",
       "       [-2.99135307e+00, -9.51363109e-01],\n",
       "       [-2.60680324e+00,  1.88447264e+00],\n",
       "       [-2.64545824e+00,  2.71378247e+00],\n",
       "       [-2.58707757e+00,  1.50604525e+00],\n",
       "       [-2.56129243e+00,  5.06790365e-01],\n",
       "       [-2.29803185e+00,  1.42857788e+00],\n",
       "       [-2.67103437e+00,  1.14621464e+00],\n",
       "       [-2.29017648e+00,  4.27049021e-01],\n",
       "       [-2.52906562e+00,  9.41927041e-01],\n",
       "       [-3.01331841e+00,  4.68455142e-01],\n",
       "       [-2.16798170e+00,  1.02409918e-01],\n",
       "       [-2.51364245e+00,  1.50103626e-01],\n",
       "       [-2.26629384e+00, -6.14522660e-01],\n",
       "       [-2.33775079e+00,  2.55931670e-01],\n",
       "       [-2.43280152e+00,  5.40002512e-01],\n",
       "       [-2.39705726e+00,  3.24819667e-01],\n",
       "       [-2.49218785e+00, -3.29977033e-01],\n",
       "       [-2.37305934e+00, -4.97021217e-01],\n",
       "       [-2.09386262e+00,  4.37116431e-01],\n",
       "       [-2.76532288e+00,  1.80515639e+00],\n",
       "       [-2.60785239e+00,  2.16463380e+00],\n",
       "       [-2.36936223e+00, -4.64153529e-01],\n",
       "       [-2.37866024e+00, -2.00953447e-01],\n",
       "       [-2.22783046e+00,  6.70946866e-01],\n",
       "       [-2.33601188e+00, -4.65729839e-01],\n",
       "       [-2.53494151e+00, -9.04939681e-01],\n",
       "       [-2.30006379e+00,  2.74398282e-01],\n",
       "       [-2.38899066e+00,  4.46566660e-01],\n",
       "       [-2.00547415e+00, -2.34081580e+00],\n",
       "       [-2.59782241e+00, -4.81223691e-01],\n",
       "       [-2.07031715e+00,  4.79252407e-01],\n",
       "       [-2.21086741e+00,  1.14974502e+00],\n",
       "       [-2.14466550e+00, -7.11636569e-01],\n",
       "       [-2.40789583e+00,  1.12410424e+00],\n",
       "       [-2.40451654e+00, -3.89322093e-01],\n",
       "       [-2.25235939e+00,  1.00117620e+00],\n",
       "       [-2.21860619e+00,  8.09638587e-03],\n",
       "       [ 6.84208818e-01,  8.96232051e-01],\n",
       "       [ 3.77267467e-01,  6.23540956e-01],\n",
       "       [ 8.29932973e-01,  6.49051413e-01],\n",
       "       [ 1.16172806e-01, -1.73928781e+00],\n",
       "       [ 7.08698144e-01, -1.81532168e-01],\n",
       "       [ 1.23944428e-01, -5.74271405e-01],\n",
       "       [ 4.48993935e-01,  8.00601745e-01],\n",
       "       [-6.20569644e-01, -1.84807763e+00],\n",
       "       [ 6.21706620e-01,  5.63207821e-02],\n",
       "       [-1.57821051e-01, -1.02205171e+00],\n",
       "       [-2.60092417e-01, -2.65140221e+00],\n",
       "       [ 2.36955187e-01, -4.47273709e-02],\n",
       "       [ 3.43402872e-01, -1.75399144e+00],\n",
       "       [ 5.00709753e-01, -1.66836321e-01],\n",
       "       [-1.45435185e-01, -4.28218441e-01],\n",
       "       [ 6.54481840e-01,  5.31025651e-01],\n",
       "       [ 2.16665651e-01, -1.81279300e-01],\n",
       "       [ 5.09878427e-02, -7.83105989e-01],\n",
       "       [ 9.94317576e-01, -1.60726040e+00],\n",
       "       [ 7.98621171e-02, -1.29657977e+00],\n",
       "       [ 6.02121011e-01,  4.15869110e-01],\n",
       "       [ 3.73931024e-01, -4.05860604e-01],\n",
       "       [ 1.04828655e+00, -9.17251259e-01],\n",
       "       [ 5.33429268e-01, -4.04343849e-01],\n",
       "       [ 6.03760108e-01, -5.01120650e-02],\n",
       "       [ 7.64985995e-01,  2.66472294e-01],\n",
       "       [ 1.10831242e+00, -6.00964805e-02],\n",
       "       [ 1.21402007e+00,  3.51319216e-01],\n",
       "       [ 6.21091878e-01, -2.14932925e-01],\n",
       "       [ 9.44626735e-03, -1.05920145e+00],\n",
       "       [ 1.72436506e-01, -1.56340711e+00],\n",
       "       [ 8.84455695e-02, -1.57535323e+00],\n",
       "       [ 2.91768840e-01, -7.75140325e-01],\n",
       "       [ 1.02436430e+00, -6.23214464e-01],\n",
       "       [ 3.08092355e-01, -2.83517403e-01],\n",
       "       [ 4.96600440e-01,  8.55605507e-01],\n",
       "       [ 1.04113512e+00,  5.34909244e-01],\n",
       "       [ 1.04503126e+00, -1.37903754e+00],\n",
       "       [ 2.12926352e-01, -2.19177357e-01],\n",
       "       [ 4.09028980e-01, -1.33238580e+00],\n",
       "       [ 4.16596773e-01, -1.12268035e+00],\n",
       "       [ 7.29259127e-01,  2.96117804e-02],\n",
       "       [ 4.85657245e-01, -9.91555021e-01],\n",
       "       [-1.12353711e-01, -2.03351210e+00],\n",
       "       [ 4.69695661e-01, -8.59308044e-01],\n",
       "       [ 3.08066918e-01, -1.84388900e-01],\n",
       "       [ 4.38918892e-01, -3.88151059e-01],\n",
       "       [ 7.50770730e-01, -1.54977351e-01],\n",
       "       [-1.30858608e-01, -1.55950490e+00],\n",
       "       [ 4.96896712e-01, -6.04384777e-01],\n",
       "       [ 1.91028810e+00,  8.87262856e-01],\n",
       "       [ 1.31397452e+00, -6.96436128e-01],\n",
       "       [ 2.23495410e+00,  5.78169221e-01],\n",
       "       [ 1.57972013e+00, -4.06481091e-02],\n",
       "       [ 1.96817608e+00,  3.06701228e-01],\n",
       "       [ 2.74331880e+00,  8.20783290e-01],\n",
       "       [ 6.81465526e-01, -1.57222767e+00],\n",
       "       [ 2.37089012e+00,  4.33391129e-01],\n",
       "       [ 2.12544403e+00, -7.05853204e-01],\n",
       "       [ 2.36740295e+00,  1.94052016e+00],\n",
       "       [ 1.59208055e+00,  6.97782278e-01],\n",
       "       [ 1.80926166e+00, -4.19852690e-01],\n",
       "       [ 2.06692263e+00,  4.26750334e-01],\n",
       "       [ 1.53740088e+00, -1.16702562e+00],\n",
       "       [ 1.73512454e+00, -4.41997205e-01],\n",
       "       [ 1.84960338e+00,  6.81278491e-01],\n",
       "       [ 1.75019315e+00,  2.56461785e-01],\n",
       "       [ 2.59677347e+00,  2.57555980e+00],\n",
       "       [ 3.37613275e+00,  3.32971702e-02],\n",
       "       [ 1.59783089e+00, -1.71809521e+00],\n",
       "       [ 2.29306200e+00,  9.17596069e-01],\n",
       "       [ 1.38192884e+00, -5.80641167e-01],\n",
       "       [ 3.05697524e+00,  4.24499643e-01],\n",
       "       [ 1.70607799e+00, -4.89214355e-01],\n",
       "       [ 2.04305738e+00,  1.01627866e+00],\n",
       "       [ 2.26849282e+00,  1.01102413e+00],\n",
       "       [ 1.60237008e+00, -3.26020457e-01],\n",
       "       [ 1.48084767e+00,  5.46302618e-02],\n",
       "       [ 2.16383495e+00, -1.91286335e-01],\n",
       "       [ 2.23009256e+00,  5.60263280e-01],\n",
       "       [ 2.74255594e+00,  2.60962405e-01],\n",
       "       [ 2.64182186e+00,  2.63639402e+00],\n",
       "       [ 2.27436326e+00, -1.83715936e-01],\n",
       "       [ 1.62348140e+00, -3.07079214e-01],\n",
       "       [ 1.71244240e+00, -8.27132080e-01],\n",
       "       [ 3.11804960e+00,  8.62011907e-01],\n",
       "       [ 2.07457092e+00,  1.06458970e+00],\n",
       "       [ 1.87563389e+00,  4.11946362e-01],\n",
       "       [ 1.51974804e+00,  7.11797782e-04],\n",
       "       [ 2.33869292e+00,  6.70113993e-01],\n",
       "       [ 2.49741092e+00,  6.09321832e-01],\n",
       "       [ 2.40590918e+00,  6.83161795e-01],\n",
       "       [ 1.76976265e+00, -7.17979033e-01],\n",
       "       [ 2.55250343e+00,  8.62617982e-01],\n",
       "       [ 2.52963773e+00,  1.04445851e+00],\n",
       "       [ 2.42442148e+00,  3.77119476e-01],\n",
       "       [ 2.16421978e+00, -9.15696451e-01],\n",
       "       [ 2.13979614e+00,  2.54271922e-01],\n",
       "       [ 2.02948035e+00,  9.98725114e-01],\n",
       "       [ 1.67483461e+00, -4.62125094e-02]])"
      ]
     },
     "execution_count": 25,
     "metadata": {},
     "output_type": "execute_result"
    }
   ],
   "source": [
    "pca"
   ]
  },
  {
   "cell_type": "code",
   "execution_count": 26,
   "id": "c3a35257-ce9f-4046-a7a4-46f2db99ddd1",
   "metadata": {},
   "outputs": [
    {
     "data": {
      "text/plain": [
       "<matplotlib.collections.PathCollection at 0x200138de900>"
      ]
     },
     "execution_count": 26,
     "metadata": {},
     "output_type": "execute_result"
    },
    {
     "data": {
      "image/png": "[encoded data removed]",
      "text/plain": [
       "<Figure size 640x480 with 1 Axes>"
      ]
     },
     "metadata": {},
     "output_type": "display_data"
    }
   ],
   "source": [
    "plt.scatter(pca[:,0],pca[:,1],c=z)"
   ]
  },
  {
   "cell_type": "code",
   "execution_count": 29,
   "id": "68273ddb-991e-4535-ba41-ef2a9d7c57f4",
   "metadata": {},
   "outputs": [],
   "source": [
    "z=db.fit_predict(ss.fit_transform([[42,5,5,3.8,4]]))"
   ]
  },
  {
   "cell_type": "code",
   "execution_count": 30,
   "id": "08e0b888-ff1a-4453-aba2-ce71e41535b4",
   "metadata": {},
   "outputs": [
    {
     "data": {
      "text/plain": [
       "array([-1])"
      ]
     },
     "execution_count": 30,
     "metadata": {},
     "output_type": "execute_result"
    }
   ],
   "source": [
    "z"
   ]
  },
  {
   "cell_type": "code",
   "execution_count": 34,
   "id": "a673e8db-a37b-45a5-9481-442a5c9c1ac8",
   "metadata": {},
   "outputs": [],
   "source": [
    "import scipy.cluster.hierarchy as hie"
   ]
  },
  {
   "cell_type": "code",
   "execution_count": 38,
   "id": "84a026f7-3651-44f1-b477-16469e486afa",
   "metadata": {},
   "outputs": [
    {
     "data": {
      "image/png": "[encoded data removed]",
      "text/plain": [
       "<Figure size 640x480 with 1 Axes>"
      ]
     },
     "metadata": {},
     "output_type": "display_data"
    }
   ],
   "source": [
    "den=hie.dendrogram(hie.linkage(x,method=\"ward\"))"
   ]
  },
  {
   "cell_type": "code",
   "execution_count": 39,
   "id": "ba980c5b-72f8-4dff-afd4-400532c04e48",
   "metadata": {},
   "outputs": [],
   "source": [
    "from sklearn.cluster import AgglomerativeClustering"
   ]
  },
  {
   "cell_type": "code",
   "execution_count": 40,
   "id": "8b0f69a0-da7a-48d2-97a3-624b3099c0a8",
   "metadata": {},
   "outputs": [],
   "source": [
    "ac=AgglomerativeClustering(n_clusters=2)"
   ]
  },
  {
   "cell_type": "code",
   "execution_count": 42,
   "id": "a8870064-5e51-4014-83e2-2183c08f9dfc",
   "metadata": {},
   "outputs": [
    {
     "data": {
      "text/plain": [
       "array([1, 1, 1, 1, 1, 1, 1, 1, 1, 1, 1, 1, 1, 1, 1, 1, 1, 1, 1, 1, 1, 1,\n",
       "       1, 1, 1, 1, 1, 1, 1, 1, 1, 1, 1, 1, 1, 1, 1, 1, 1, 1, 1, 1, 1, 1,\n",
       "       1, 1, 1, 1, 1, 1, 0, 0, 0, 0, 0, 0, 0, 0, 0, 0, 0, 0, 0, 0, 0, 0,\n",
       "       0, 0, 0, 0, 0, 0, 0, 0, 0, 0, 0, 0, 0, 0, 0, 0, 0, 0, 0, 0, 0, 0,\n",
       "       0, 0, 0, 0, 0, 0, 0, 0, 0, 0, 0, 0, 0, 0, 0, 0, 0, 0, 0, 0, 0, 0,\n",
       "       0, 0, 0, 0, 0, 0, 0, 0, 0, 0, 0, 0, 0, 0, 0, 0, 0, 0, 0, 0, 0, 0,\n",
       "       0, 0, 0, 0, 0, 0, 0, 0, 0, 0, 0, 0, 0, 0, 0, 0, 0, 0])"
      ]
     },
     "execution_count": 42,
     "metadata": {},
     "output_type": "execute_result"
    }
   ],
   "source": [
    "ac.fit_predict(x)"
   ]
  },
  {
   "cell_type": "code",
   "execution_count": null,
   "id": "8a2e3bd1-218f-45de-af25-cbe7bca447cf",
   "metadata": {},
   "outputs": [],
   "source": [
    "label"
   ]
  }
 ],
 "metadata": {
  "kernelspec": {
   "display_name": "Python 3 (ipykernel)",
   "language": "python",
   "name": "python3"
  },
  "language_info": {
   "codemirror_mode": {
    "name": "ipython",
    "version": 3
   },
   "file_extension": ".py",
   "mimetype": "text/x-python",
   "name": "python",
   "nbconvert_exporter": "python",
   "pygments_lexer": "ipython3",
   "version": "3.10.11"
  }
 },
 "nbformat": 4,
 "nbformat_minor": 5
}
